{
 "cells": [
  {
   "cell_type": "code",
   "execution_count": 1,
   "id": "fd6475d4",
   "metadata": {},
   "outputs": [],
   "source": [
    "#importing libraries\n",
    "import pandas as pd\n",
    "import numpy as np"
   ]
  },
  {
   "cell_type": "code",
   "execution_count": 35,
   "id": "21fac0d2",
   "metadata": {},
   "outputs": [],
   "source": [
    "#extracting links dataset\n",
    "Links_file=pd.read_csv(\"C:\\\\Users\\\\HP Pavilion\\\\OneDrive\\\\Desktop\\\\links.csv\")"
   ]
  },
  {
   "cell_type": "code",
   "execution_count": 36,
   "id": "6565842b",
   "metadata": {},
   "outputs": [],
   "source": [
    "#extracting tags dataset\n",
    "Tags_file=pd.read_csv(\"C:\\\\Users\\\\HP Pavilion\\\\OneDrive\\\\Desktop\\\\tags.csv\")"
   ]
  },
  {
   "cell_type": "code",
   "execution_count": 38,
   "id": "82a4306e",
   "metadata": {},
   "outputs": [],
   "source": [
    "#extracting ratings dataset\n",
    "Ratings_file=pd.read_csv(\"C:\\\\Users\\\\HP Pavilion\\\\OneDrive\\\\Desktop\\\\ratings.csv\")"
   ]
  },
  {
   "cell_type": "code",
   "execution_count": 37,
   "id": "4960235b",
   "metadata": {},
   "outputs": [],
   "source": [
    "#extracting movies dataset\n",
    "Movies_file=pd.read_csv(\"C:\\\\Users\\\\HP Pavilion\\\\OneDrive\\\\Desktop\\\\movies.csv\")"
   ]
  },
  {
   "cell_type": "code",
   "execution_count": 17,
   "id": "63eff181",
   "metadata": {},
   "outputs": [
    {
     "data": {
      "text/plain": [
       "(9742, 3)"
      ]
     },
     "execution_count": 17,
     "metadata": {},
     "output_type": "execute_result"
    }
   ],
   "source": [
    "# shape of \"movies.csv\"\n",
    "Movies_file.shape"
   ]
  },
  {
   "cell_type": "code",
   "execution_count": 18,
   "id": "7b2869e1",
   "metadata": {},
   "outputs": [
    {
     "data": {
      "text/plain": [
       "(100836, 4)"
      ]
     },
     "execution_count": 18,
     "metadata": {},
     "output_type": "execute_result"
    }
   ],
   "source": [
    "# shape of \"ratings.csv\"\n",
    "Ratings_file.shape"
   ]
  },
  {
   "cell_type": "code",
   "execution_count": 96,
   "id": "eaa952cb",
   "metadata": {},
   "outputs": [
    {
     "name": "stdout",
     "output_type": "stream",
     "text": [
      "610\n"
     ]
    }
   ],
   "source": [
    "# unique \"userId\" available in \"ratings.csv\"\n",
    "unique_count = Ratings_file['userId'].nunique()\n",
    "print(unique_count)"
   ]
  },
  {
   "cell_type": "code",
   "execution_count": 100,
   "id": "44a347c6",
   "metadata": {},
   "outputs": [
    {
     "name": "stdout",
     "output_type": "stream",
     "text": [
      "The movie that received the maximum number of user ratings is: Forrest Gump (1994)\n"
     ]
    }
   ],
   "source": [
    "# movie that has recieved maximum number of user ratings\n",
    "ratings_count = Ratings_file['movieId'].value_counts()\n",
    "max_ratings_movie_id = ratings_count.idxmax()\n",
    "max_ratings_movie_title = Movies_file.loc[Movies_file['movieId'] == max_ratings_movie_id, 'title'].values[0]\n",
    "print(f\"The movie that received the maximum number of user ratings is: {max_ratings_movie_title}\")"
   ]
  },
  {
   "cell_type": "code",
   "execution_count": 103,
   "id": "008e42c8",
   "metadata": {},
   "outputs": [
    {
     "name": "stdout",
     "output_type": "stream",
     "text": [
      "Tags for 'Matrix, The (1999)': ['martial arts' 'sci-fi' 'alternate universe' 'philosophy'\n",
      " 'post apocalyptic']\n"
     ]
    }
   ],
   "source": [
    "# tags submitted by users to \"Matrix, The (1999)\" movie\n",
    "matrix_movie_id = Movies_file.loc[Movies_file['title'] == 'Matrix, The (1999)', 'movieId'].values[0]\n",
    "matrix_tags = Tags_file.loc[Tags_file['movieId'] == matrix_movie_id, 'tag']\n",
    "unique_matrix_tags = matrix_tags.unique()\n",
    "print(f\"Tags for 'Matrix, The (1999)': {unique_matrix_tags}\")"
   ]
  },
  {
   "cell_type": "code",
   "execution_count": 120,
   "id": "1ab09d95",
   "metadata": {},
   "outputs": [
    {
     "name": "stdout",
     "output_type": "stream",
     "text": [
      "The average user rating for 'Terminator 2: Judgment Day (1991) is 3.97\n"
     ]
    }
   ],
   "source": [
    "# Average User rating for \"Terminator 2: Judgement Day (1991)\"\n",
    "Terminator_2_Judgment_Day_1991_Id = 589\n",
    "ratings = Ratings_file[Ratings_file['movieId']==Terminator_2_Judgment_Day_1991_Id] \n",
    "avg_rating = ratings['rating'].mean()\n",
    "print(f\"The average user rating for 'Terminator 2: Judgment Day (1991) is {avg_rating:.2f}\")"
   ]
  },
  {
   "cell_type": "code",
   "execution_count": 121,
   "id": "3200f2d0",
   "metadata": {},
   "outputs": [
    {
     "data": {
      "image/png": "[encoded data removed]",
      "text/plain": [
       "<Figure size 720x576 with 1 Axes>"
      ]
     },
     "metadata": {
      "needs_background": "light"
     },
     "output_type": "display_data"
    }
   ],
   "source": [
    "# data distribution of user ratings for \"Fight Club (1999)\"\n",
    "import matplotlib.pyplot as plt\n",
    "fight_club_movie_id = Movies_file.loc[Movies_file['title'] == 'Fight Club (1999)', 'movieId'].values[0]\n",
    "fight_club_ratings = Ratings_file.loc[Ratings_file['movieId'] == fight_club_movie_id, 'rating']\n",
    "plt.figure(figsize=(10, 8))\n",
    "plt.hist(fight_club_ratings, bins=10, edgecolor='black')\n",
    "plt.title('User Ratings Distribution for Fight Club (1999)')\n",
    "plt.xlabel('Rating')\n",
    "plt.ylabel('Frequency')\n",
    "plt.grid(True)\n",
    "plt.show()\n",
    " "
   ]
  },
  {
   "cell_type": "code",
   "execution_count": null,
   "id": "3e0f488b",
   "metadata": {},
   "outputs": [],
   "source": []
  },
  {
   "cell_type": "code",
   "execution_count": null,
   "id": "66630cc2",
   "metadata": {},
   "outputs": [],
   "source": [
    "#Which movie is the most popular based on  average user ratings?\n",
    "#Select all the correct options which comes under top 5 popular movies based on number of user ratings.\n",
    "#Which Sci-Fi movie is \"third most popular\" based on the number of user ratings?"
   ]
  },
  {
   "cell_type": "code",
   "execution_count": 115,
   "id": "8116b630",
   "metadata": {},
   "outputs": [
    {
     "name": "stdout",
     "output_type": "stream",
     "text": [
      "      movieId  count  mean_rating                             title  \\\n",
      "0           1    215     3.920930                  Toy Story (1995)   \n",
      "1           2    110     3.431818                    Jumanji (1995)   \n",
      "2           3     52     3.259615           Grumpier Old Men (1995)   \n",
      "5           6    102     3.946078                       Heat (1995)   \n",
      "6           7     54     3.185185                    Sabrina (1995)   \n",
      "...       ...    ...          ...                               ...   \n",
      "8287   106782     54     3.916667   Wolf of Wall Street, The (2013)   \n",
      "8354   109374     52     3.778846  Grand Budapest Hotel, The (2014)   \n",
      "8358   109487     73     3.993151               Interstellar (2014)   \n",
      "8457   112852     59     4.050847    Guardians of the Galaxy (2014)   \n",
      "8673   122904     54     3.833333                   Deadpool (2016)   \n",
      "\n",
      "                                           genres  \n",
      "0     Adventure|Animation|Children|Comedy|Fantasy  \n",
      "1                      Adventure|Children|Fantasy  \n",
      "2                                  Comedy|Romance  \n",
      "5                           Action|Crime|Thriller  \n",
      "6                                  Comedy|Romance  \n",
      "...                                           ...  \n",
      "8287                           Comedy|Crime|Drama  \n",
      "8354                                 Comedy|Drama  \n",
      "8358                                  Sci-Fi|IMAX  \n",
      "8457                      Action|Adventure|Sci-Fi  \n",
      "8673               Action|Adventure|Comedy|Sci-Fi  \n",
      "\n",
      "[436 rows x 5 columns]\n",
      "The most popular movie based on average user ratings is: Shawshank Redemption, The (1994)\n"
     ]
    }
   ],
   "source": [
    "\n",
    "# Group user ratings by movieId and apply aggregation operations\n",
    "grouped_df = Ratings_file.groupby(\"movieId\").agg(count=(\"rating\", \"count\"), mean_rating=(\"rating\", \"mean\")).reset_index()\n",
    "\n",
    "# Load the movies data (assuming it's available)\n",
    "\n",
    "\n",
    "# Join the DataFrames\n",
    "joined_df = pd.merge(grouped_df, Movies_file, on=\"movieId\")\n",
    "\n",
    "# Filter movies with more than 50 ratings\n",
    "filtered_df = joined_df[joined_df[\"count\"] > 50]\n",
    "\n",
    "# Print the filtered DataFrame\n",
    "print(filtered_df)\n",
    "\n",
    "if not filtered_df.empty:\n",
    "    highest_rated_movie = filtered_df.loc[filtered_df[\"mean_rating\"].idxmax(), \"title\"]\n",
    "    print(f\"The most popular movie based on average user ratings is: {highest_rated_movie}\")\n",
    "else:\n",
    "    print(\"No movies in the dataset have more than 50 user ratings.\")\n"
   ]
  },
  {
   "cell_type": "code",
   "execution_count": 116,
   "id": "324b7a4b",
   "metadata": {},
   "outputs": [
    {
     "name": "stdout",
     "output_type": "stream",
     "text": [
      "The top 5 popular movies based on number of user ratings:\n",
      "Forrest Gump (1994)\n",
      "Shawshank Redemption, The (1994)\n",
      "Pulp Fiction (1994)\n",
      "Silence of the Lambs, The (1991)\n",
      "Matrix, The (1999)\n"
     ]
    }
   ],
   "source": [
    "sorted_movies = filtered_df.sort_values(by='count', ascending=False)\n",
    "top_5_popular_movies = sorted_movies.head(5)\n",
    "print(\"The top 5 popular movies based on number of user ratings:\")\n",
    "for movie_title in top_5_popular_movies['title']:\n",
    "    print(movie_title)"
   ]
  },
  {
   "cell_type": "code",
   "execution_count": 117,
   "id": "55b37f10",
   "metadata": {},
   "outputs": [
    {
     "name": "stdout",
     "output_type": "stream",
     "text": [
      "The third most popular Sci-Fi movie based on number of user ratings is: Jurassic Park (1993)\n"
     ]
    }
   ],
   "source": [
    "# Filter for Sci-Fi movies\n",
    "sci_fi_movies = filtered_df[filtered_df['genres'].str.contains('Sci-Fi')]\n",
    "\n",
    "# Sort Sci-Fi movies by rating count in descending order\n",
    "sorted_sci_fi = sci_fi_movies.sort_values(by='count', ascending=False)\n",
    "\n",
    "# Identify the third most popular Sci-Fi movie based on rating count\n",
    "if len(sorted_sci_fi) >= 3:\n",
    "    third_most_popular_sci_fi = sorted_sci_fi.iloc[2]  # Third entry in zero-based index\n",
    "    print(f\"The third most popular Sci-Fi movie based on number of user ratings is: {third_most_popular_sci_fi['title']}\")\n",
    "else:\n",
    "    print(\"There are not enough Sci-Fi movies with more than 50 ratings to determine the third most popular.\")"
   ]
  },
  {
   "cell_type": "code",
   "execution_count": null,
   "id": "f7ac9713",
   "metadata": {},
   "outputs": [],
   "source": []
  }
 ],
 "metadata": {
  "kernelspec": {
   "display_name": "Python 3 (ipykernel)",
   "language": "python",
   "name": "python3"
  },
  "language_info": {
   "codemirror_mode": {
    "name": "ipython",
    "version": 3
   },
   "file_extension": ".py",
   "mimetype": "text/x-python",
   "name": "python",
   "nbconvert_exporter": "python",
   "pygments_lexer": "ipython3",
   "version": "3.9.7"
  }
 },
 "nbformat": 4,
 "nbformat_minor": 5
}
